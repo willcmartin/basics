{
 "cells": [
  {
   "cell_type": "code",
   "execution_count": null,
   "id": "0a347334",
   "metadata": {},
   "outputs": [],
   "source": [
    "# Goal: implement _very_ basic functionalities of pytorch from scratch (but I'm going to cheat and use numpy)\n",
    "\n",
    "# large inspiration from:\n",
    "# - https://github.com/karpathy/micrograd\n",
    "# - https://github.com/geohot/tinygrad"
   ]
  },
  {
   "cell_type": "code",
   "execution_count": 1,
   "id": "91e21485",
   "metadata": {},
   "outputs": [],
   "source": [
    "import torch \n",
    "import torchvision\n",
    "import torch.nn as nn\n",
    "import numpy as np\n",
    "import torchvision.transforms as transforms"
   ]
  },
  {
   "cell_type": "code",
   "execution_count": 83,
   "id": "16154db2",
   "metadata": {},
   "outputs": [
    {
     "name": "stdout",
     "output_type": "stream",
     "text": [
      "tensor(15., requires_grad=True)\n",
      "tensor(1050., grad_fn=<AddBackward0>)\n",
      "tensor(10.)\n",
      "tensor(15.)\n",
      "tensor(1.)\n"
     ]
    }
   ],
   "source": [
    "# pytorch\n",
    "\n",
    "# Create tensors.\n",
    "x = torch.tensor(15., requires_grad=True)\n",
    "print(x)\n",
    "w = torch.tensor(10., requires_grad=True)\n",
    "b = torch.tensor(900., requires_grad=True)\n",
    "\n",
    "# Build a computational graph.\n",
    "y = w * x + b    # y = 2 * x + 3\n",
    "print(y)\n",
    "\n",
    "# Compute gradients.\n",
    "# Computes the sum of gradients of given tensors with respect to graph leaves.\n",
    "y.backward()\n",
    "\n",
    "# Print out the gradients.\n",
    "# Computes and returns the sum of gradients of outputs with respect to the inputs.\n",
    "print(x.grad)    # x.grad = 2 = dy/dx = w\n",
    "print(w.grad)    # w.grad = 1 = dy/dw = x\n",
    "print(b.grad)    # b.grad = 1 = dy/db = 1"
   ]
  },
  {
   "cell_type": "code",
   "execution_count": 91,
   "id": "1c9f46a9",
   "metadata": {},
   "outputs": [
    {
     "name": "stdout",
     "output_type": "stream",
     "text": [
      "x: [15.]\n",
      "y: [150.]\n",
      "[10.]\n",
      "[15.]\n"
     ]
    }
   ],
   "source": [
    "# not pytorch\n",
    "\n",
    "class Tensor:\n",
    "    def __init__(self, data, children=()):\n",
    "        self.data = np.array(data, dtype=np.float32)\n",
    "        self._children = children\n",
    "        self.grad = 0\n",
    "        self._backword = lambda: None\n",
    "        \n",
    "    def __mul__(self, other):\n",
    "        out = Tensor(np.multiply(self.data, other.data), (self, other))\n",
    "        \n",
    "        def _backward():\n",
    "            self.grad += other.data * out.grad\n",
    "            other.grad += self.data * out.grad\n",
    "            \n",
    "        out._backword = _backward\n",
    "        \n",
    "        return out\n",
    "    \n",
    "    def __add__(self, other):\n",
    "        out = Tensor(np.add(self.data, other.data), (self, other))\n",
    "        \n",
    "        def _backward():\n",
    "            self.grad += out.grad\n",
    "            other.grad += out.grad\n",
    "        \n",
    "        return out\n",
    "    \n",
    "    def backward(self):\n",
    "        graph = []\n",
    "        \n",
    "        def _build_graph(node):\n",
    "            for child in node._children:\n",
    "                _build_graph(child)\n",
    "            graph.append(node)\n",
    "        \n",
    "        _build_graph(self)\n",
    "        \n",
    "        self.grad = 1\n",
    "        for node in reversed(graph):\n",
    "            node._backword()\n",
    "\n",
    "        \n",
    "x = Tensor([15])\n",
    "print(f'x: {x.data}')\n",
    "w = Tensor([10])\n",
    "b = Tensor([900])\n",
    "\n",
    "y = w * x + b\n",
    "print(f'y: {y.data}')\n",
    "\n",
    "y.backward()\n",
    "\n",
    "print(x.grad)\n",
    "print(w.grad)\n",
    "print(b.grad)"
   ]
  },
  {
   "cell_type": "code",
   "execution_count": null,
   "id": "062ac64d",
   "metadata": {},
   "outputs": [],
   "source": []
  }
 ],
 "metadata": {
  "kernelspec": {
   "display_name": "pytorch",
   "language": "python",
   "name": "pytorch"
  },
  "language_info": {
   "codemirror_mode": {
    "name": "ipython",
    "version": 3
   },
   "file_extension": ".py",
   "mimetype": "text/x-python",
   "name": "python",
   "nbconvert_exporter": "python",
   "pygments_lexer": "ipython3",
   "version": "3.8.10"
  }
 },
 "nbformat": 4,
 "nbformat_minor": 5
}
