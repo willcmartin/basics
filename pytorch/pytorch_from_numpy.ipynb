{
 "cells": [
  {
   "cell_type": "code",
   "execution_count": null,
   "id": "0a347334",
   "metadata": {},
   "outputs": [],
   "source": [
    "# Goal: implement _very_ basic functionalities of pytorch from scratch (but I'm going to cheat and use numpy)\n",
    "\n",
    "# large inspiration from:\n",
    "# - https://github.com/karpathy/micrograd\n",
    "# - https://github.com/geohot/tinygrad"
   ]
  },
  {
   "cell_type": "code",
   "execution_count": 2,
   "id": "91e21485",
   "metadata": {},
   "outputs": [],
   "source": [
    "import torch \n",
    "import torchvision\n",
    "import torch.nn as nn\n",
    "import numpy as np\n",
    "import torchvision.transforms as transforms"
   ]
  },
  {
   "cell_type": "code",
   "execution_count": 54,
   "id": "16154db2",
   "metadata": {},
   "outputs": [
    {
     "name": "stdout",
     "output_type": "stream",
     "text": [
      "tensor(15., requires_grad=True)\n",
      "tensor(90150., grad_fn=<AddBackward0>)\n",
      "tensor(10.)\n",
      "tensor(15.)\n",
      "tensor(100.)\n"
     ]
    }
   ],
   "source": [
    "# pytorch\n",
    "\n",
    "# Create tensors.\n",
    "x = torch.tensor(15., requires_grad=True)\n",
    "print(x)\n",
    "w = torch.tensor(10., requires_grad=True)\n",
    "b = torch.tensor(900., requires_grad=True)\n",
    "\n",
    "# Build a computational graph.\n",
    "y = w * x + b * 100    # y = 2 * x + 3\n",
    "print(y)\n",
    "\n",
    "# Compute gradients.\n",
    "# Computes the sum of gradients of given tensors with respect to graph leaves.\n",
    "y.backward()\n",
    "\n",
    "# Print out the gradients.\n",
    "# Computes and returns the sum of gradients of outputs with respect to the inputs.\n",
    "print(x.grad)    # x.grad = 2 = dy/dx = w\n",
    "print(w.grad)    # w.grad = 1 = dy/dw = x\n",
    "print(b.grad)    # b.grad = 1 = dy/db = 1"
   ]
  },
  {
   "cell_type": "code",
   "execution_count": 55,
   "id": "1c9f46a9",
   "metadata": {},
   "outputs": [
    {
     "name": "stdout",
     "output_type": "stream",
     "text": [
      "x: [15.]\n",
      "w: [10.]\n",
      "b: [900.]\n",
      "\n"
     ]
    },
    {
     "ename": "AttributeError",
     "evalue": "'int' object has no attribute 'data'",
     "output_type": "error",
     "traceback": [
      "\u001b[0;31m---------------------------------------------------------------------------\u001b[0m",
      "\u001b[0;31mAttributeError\u001b[0m                            Traceback (most recent call last)",
      "\u001b[0;32m/var/folders/9p/ysr3lnbs16z7wxxlztrm7z0m0000gn/T/ipykernel_56930/2687411933.py\u001b[0m in \u001b[0;36m<module>\u001b[0;34m\u001b[0m\n\u001b[1;32m     53\u001b[0m \u001b[0mprint\u001b[0m\u001b[0;34m(\u001b[0m\u001b[0;34mf''\u001b[0m\u001b[0;34m)\u001b[0m\u001b[0;34m\u001b[0m\u001b[0;34m\u001b[0m\u001b[0m\n\u001b[1;32m     54\u001b[0m \u001b[0;34m\u001b[0m\u001b[0m\n\u001b[0;32m---> 55\u001b[0;31m \u001b[0my\u001b[0m \u001b[0;34m=\u001b[0m \u001b[0mw\u001b[0m \u001b[0;34m*\u001b[0m \u001b[0mx\u001b[0m \u001b[0;34m+\u001b[0m \u001b[0mb\u001b[0m \u001b[0;34m*\u001b[0m \u001b[0;36m100\u001b[0m\u001b[0;34m\u001b[0m\u001b[0;34m\u001b[0m\u001b[0m\n\u001b[0m\u001b[1;32m     56\u001b[0m \u001b[0mprint\u001b[0m\u001b[0;34m(\u001b[0m\u001b[0;34mf'y: {y.data}'\u001b[0m\u001b[0;34m)\u001b[0m\u001b[0;34m\u001b[0m\u001b[0;34m\u001b[0m\u001b[0m\n\u001b[1;32m     57\u001b[0m \u001b[0;34m\u001b[0m\u001b[0m\n",
      "\u001b[0;32m/var/folders/9p/ysr3lnbs16z7wxxlztrm7z0m0000gn/T/ipykernel_56930/2687411933.py\u001b[0m in \u001b[0;36m__mul__\u001b[0;34m(self, other)\u001b[0m\n\u001b[1;32m     10\u001b[0m     \u001b[0;32mdef\u001b[0m \u001b[0m__mul__\u001b[0m\u001b[0;34m(\u001b[0m\u001b[0mself\u001b[0m\u001b[0;34m,\u001b[0m \u001b[0mother\u001b[0m\u001b[0;34m)\u001b[0m\u001b[0;34m:\u001b[0m\u001b[0;34m\u001b[0m\u001b[0;34m\u001b[0m\u001b[0m\n\u001b[1;32m     11\u001b[0m         \u001b[0mop\u001b[0m \u001b[0;34m=\u001b[0m \u001b[0mMultiply\u001b[0m\u001b[0;34m\u001b[0m\u001b[0;34m\u001b[0m\u001b[0m\n\u001b[0;32m---> 12\u001b[0;31m         \u001b[0moutput\u001b[0m \u001b[0;34m=\u001b[0m \u001b[0mop\u001b[0m\u001b[0;34m.\u001b[0m\u001b[0mforward\u001b[0m\u001b[0;34m(\u001b[0m\u001b[0mself\u001b[0m\u001b[0;34m,\u001b[0m \u001b[0mother\u001b[0m\u001b[0;34m)\u001b[0m\u001b[0;34m\u001b[0m\u001b[0;34m\u001b[0m\u001b[0m\n\u001b[0m\u001b[1;32m     13\u001b[0m         \u001b[0moutput\u001b[0m\u001b[0;34m.\u001b[0m\u001b[0mop\u001b[0m \u001b[0;34m=\u001b[0m \u001b[0mop\u001b[0m\u001b[0;34m\u001b[0m\u001b[0;34m\u001b[0m\u001b[0m\n\u001b[1;32m     14\u001b[0m         \u001b[0;32mreturn\u001b[0m \u001b[0moutput\u001b[0m\u001b[0;34m\u001b[0m\u001b[0;34m\u001b[0m\u001b[0m\n",
      "\u001b[0;32m/var/folders/9p/ysr3lnbs16z7wxxlztrm7z0m0000gn/T/ipykernel_56930/2687411933.py\u001b[0m in \u001b[0;36mforward\u001b[0;34m(a, b)\u001b[0m\n\u001b[1;32m     31\u001b[0m \u001b[0;32mclass\u001b[0m \u001b[0mMultiply\u001b[0m\u001b[0;34m:\u001b[0m\u001b[0;34m\u001b[0m\u001b[0;34m\u001b[0m\u001b[0m\n\u001b[1;32m     32\u001b[0m     \u001b[0;32mdef\u001b[0m \u001b[0mforward\u001b[0m\u001b[0;34m(\u001b[0m\u001b[0ma\u001b[0m\u001b[0;34m,\u001b[0m \u001b[0mb\u001b[0m\u001b[0;34m)\u001b[0m\u001b[0;34m:\u001b[0m\u001b[0;34m\u001b[0m\u001b[0;34m\u001b[0m\u001b[0m\n\u001b[0;32m---> 33\u001b[0;31m         \u001b[0;32mreturn\u001b[0m \u001b[0mTensor\u001b[0m\u001b[0;34m(\u001b[0m\u001b[0mnp\u001b[0m\u001b[0;34m.\u001b[0m\u001b[0mmultiply\u001b[0m\u001b[0;34m(\u001b[0m\u001b[0ma\u001b[0m\u001b[0;34m.\u001b[0m\u001b[0mdata\u001b[0m\u001b[0;34m,\u001b[0m \u001b[0mb\u001b[0m\u001b[0;34m.\u001b[0m\u001b[0mdata\u001b[0m\u001b[0;34m)\u001b[0m\u001b[0;34m,\u001b[0m \u001b[0;34m(\u001b[0m\u001b[0ma\u001b[0m\u001b[0;34m,\u001b[0m \u001b[0mb\u001b[0m\u001b[0;34m)\u001b[0m\u001b[0;34m)\u001b[0m\u001b[0;34m\u001b[0m\u001b[0;34m\u001b[0m\u001b[0m\n\u001b[0m\u001b[1;32m     34\u001b[0m \u001b[0;34m\u001b[0m\u001b[0m\n\u001b[1;32m     35\u001b[0m     \u001b[0;32mdef\u001b[0m \u001b[0mbackward\u001b[0m\u001b[0;34m(\u001b[0m\u001b[0mparent\u001b[0m\u001b[0;34m,\u001b[0m \u001b[0ma\u001b[0m\u001b[0;34m,\u001b[0m \u001b[0mb\u001b[0m\u001b[0;34m)\u001b[0m\u001b[0;34m:\u001b[0m\u001b[0;34m\u001b[0m\u001b[0;34m\u001b[0m\u001b[0m\n",
      "\u001b[0;31mAttributeError\u001b[0m: 'int' object has no attribute 'data'"
     ]
    }
   ],
   "source": [
    "# not pytorch\n",
    "\n",
    "class Tensor:\n",
    "    def __init__(self, data, children=()):\n",
    "        self.data = np.array(data, dtype=np.float32)\n",
    "        self.children = children\n",
    "        self.grad = 1\n",
    "        self.op = None\n",
    "        \n",
    "    def __mul__(self, other):\n",
    "        op = Multiply\n",
    "        output = op.forward(self, other)\n",
    "        output.op = op\n",
    "        return output\n",
    "    \n",
    "    def __add__(self, other):\n",
    "        op = Add\n",
    "        output = op.forward(self, other)\n",
    "        output.op = op\n",
    "        return output    \n",
    "\n",
    "    def backward(self):\n",
    "        if self.op is not None:\n",
    "            children_grads = self.op.backward(self, *self.children)\n",
    "            for node, grad in zip(self.children, children_grads):\n",
    "                node.grad = grad\n",
    "        for node in self.children:\n",
    "            node.backward()\n",
    "            \n",
    "\n",
    "class Multiply:\n",
    "    def forward(a, b):\n",
    "        return Tensor(np.multiply(a.data, b.data), (a, b))\n",
    "    \n",
    "    def backward(parent, a, b):\n",
    "        return b.data * parent.grad, a.data * parent.grad\n",
    "    \n",
    "class Add:\n",
    "    def forward(a, b):\n",
    "        return Tensor(np.add(a.data, b.data), (a, b))\n",
    "    \n",
    "    def backward(parent, a, b):\n",
    "        return parent.grad, parent.grad    \n",
    "\n",
    "        \n",
    "\n",
    "x = Tensor([15])\n",
    "w = Tensor([10])\n",
    "b = Tensor([900])\n",
    "g = Tensor([100])\n",
    "print(f'x: {x.data}')\n",
    "print(f'w: {w.data}')\n",
    "print(f'b: {b.data}')\n",
    "print(f'')\n",
    "\n",
    "y = w * x + b * g\n",
    "print(f'y: {y.data}')\n",
    "\n",
    "y.backward()\n",
    "\n",
    "print(x.grad)\n",
    "print(w.grad)\n",
    "print(b.grad)"
   ]
  },
  {
   "cell_type": "code",
   "execution_count": null,
   "id": "062ac64d",
   "metadata": {},
   "outputs": [],
   "source": [
    "        \n",
    "#         self.op = Multiply\n",
    "#         return self.op.forward(self, other)\n",
    "    \n",
    "#         out = Tensor(np.multiply(self.data, other.data), (self, other))\n",
    "        \n",
    "#         def _backward():\n",
    "#             self.grad += other.data * out.grad\n",
    "#             other.grad += self.data * out.grad\n",
    "            \n",
    "#         out._backword = _backward\n",
    "        \n",
    "#         return out\n",
    "    \n",
    "#     def __add__(self, other):\n",
    "#         out = Tensor(np.add(self.data, other.data), (self, other))\n",
    "        \n",
    "#         def _backward():\n",
    "#             self.grad += out.grad\n",
    "#             other.grad += out.grad\n",
    "        \n",
    "#         return out\n",
    "    \n",
    "    \n",
    "    \n",
    "    \n",
    "#         graph = []\n",
    "        \n",
    "#         def _build_graph(node):\n",
    "#             for child in node._children:\n",
    "#                 _build_graph(child)\n",
    "#             graph.append(node)\n",
    "        \n",
    "#         _build_graph(self)\n",
    "        \n",
    "#         self.grad = 1"
   ]
  }
 ],
 "metadata": {
  "kernelspec": {
   "display_name": "pytorch",
   "language": "python",
   "name": "pytorch"
  },
  "language_info": {
   "codemirror_mode": {
    "name": "ipython",
    "version": 3
   },
   "file_extension": ".py",
   "mimetype": "text/x-python",
   "name": "python",
   "nbconvert_exporter": "python",
   "pygments_lexer": "ipython3",
   "version": "3.8.10"
  }
 },
 "nbformat": 4,
 "nbformat_minor": 5
}
