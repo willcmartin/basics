{
 "cells": [
  {
   "cell_type": "code",
   "execution_count": 24,
   "id": "96b2f9ba",
   "metadata": {},
   "outputs": [
    {
     "name": "stdout",
     "output_type": "stream",
     "text": [
      "None\n",
      "None\n",
      "<bound method register.<locals>.dispatch of <Tensor array([0.], dtype=float32) with grad None>>\n",
      "<bound method register.<locals>.dispatch of <Tensor array([0.], dtype=float32) with grad array([1.], dtype=float32)>>\n",
      "<Tensor array([[ 2.,  2.,  2.],\n",
      "       [ 0.,  0.,  0.],\n",
      "       [-2., -2., -2.]], dtype=float32) with grad None>\n",
      "<Tensor array([[1., 1., 1.]], dtype=float32) with grad None>\n"
     ]
    }
   ],
   "source": [
    "from tinygrad.tensor import Tensor\n",
    "\n",
    "x = Tensor.eye(3)\n",
    "print(x._ctx)\n",
    "y = Tensor([[2.0,0,-2.0]])\n",
    "print(y._ctx)\n",
    "z = y.matmul(x).sum()\n",
    "print(z.__sub__)\n",
    "z.backward()\n",
    "print(z.__sub__)\n",
    "\n",
    "print(x.grad)  # dz/dx\n",
    "print(y.grad)  # dz/dy"
   ]
  }
 ],
 "metadata": {
  "kernelspec": {
   "display_name": "tinygrad",
   "language": "python",
   "name": "tinygrad"
  },
  "language_info": {
   "codemirror_mode": {
    "name": "ipython",
    "version": 3
   },
   "file_extension": ".py",
   "mimetype": "text/x-python",
   "name": "python",
   "nbconvert_exporter": "python",
   "pygments_lexer": "ipython3",
   "version": "3.9.4"
  }
 },
 "nbformat": 4,
 "nbformat_minor": 5
}
