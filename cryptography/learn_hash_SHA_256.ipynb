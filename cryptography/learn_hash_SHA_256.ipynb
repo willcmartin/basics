{
 "cells": [
  {
   "cell_type": "markdown",
   "metadata": {},
   "source": [
    "# Learning SHA-256 Cryptographic Hash Algorithm\n",
    "## https://nvlpubs.nist.gov/nistpubs/FIPS/NIST.FIPS.180-4.pdf"
   ]
  },
  {
   "cell_type": "code",
   "execution_count": 32,
   "metadata": {},
   "outputs": [],
   "source": [
    "import numpy as np\n",
    "\n",
    "input_string = \"hash this\""
   ]
  },
  {
   "cell_type": "code",
   "execution_count": 33,
   "metadata": {
    "scrolled": true
   },
   "outputs": [],
   "source": [
    "K = [0x428a2f98, 0x71374491, 0xb5c0fbcf, 0xe9b5dba5, 0x3956c25b, 0x59f111f1, 0x923f82a4, 0xab1c5ed5,\n",
    "            0xd807aa98, 0x12835b01, 0x243185be, 0x550c7dc3, 0x72be5d74, 0x80deb1fe, 0x9bdc06a7, 0xc19bf174,\n",
    "            0xe49b69c1, 0xefbe4786, 0x0fc19dc6, 0x240ca1cc, 0x2de92c6f, 0x4a7484aa, 0x5cb0a9dc, 0x76f988da,\n",
    "            0x983e5152, 0xa831c66d, 0xb00327c8, 0xbf597fc7, 0xc6e00bf3, 0xd5a79147, 0x06ca6351, 0x14292967,\n",
    "            0x27b70a85, 0x2e1b2138, 0x4d2c6dfc, 0x53380d13, 0x650a7354, 0x766a0abb, 0x81c2c92e, 0x92722c85,\n",
    "            0xa2bfe8a1, 0xa81a664b, 0xc24b8b70, 0xc76c51a3, 0xd192e819, 0xd6990624, 0xf40e3585, 0x106aa070,\n",
    "            0x19a4c116, 0x1e376c08, 0x2748774c, 0x34b0bcb5, 0x391c0cb3, 0x4ed8aa4a, 0x5b9cca4f, 0x682e6ff3,\n",
    "            0x748f82ee, 0x78a5636f, 0x84c87814, 0x8cc70208, 0x90befffa, 0xa4506ceb, 0xbef9a3f7, 0xc67178f2]"
   ]
  },
  {
   "cell_type": "code",
   "execution_count": 34,
   "metadata": {},
   "outputs": [],
   "source": [
    "def sigma_1(x: int):\n",
    "    out = (rotr(17, x) ^ rotr(19, x) ^ shr(10, x))\n",
    "    return out"
   ]
  },
  {
   "cell_type": "code",
   "execution_count": 35,
   "metadata": {},
   "outputs": [],
   "source": [
    "def sigma_0(x: int):\n",
    "    out = (rotr(7, x) ^ rotr(18, x) ^ shr(3, x))\n",
    "    return out"
   ]
  },
  {
   "cell_type": "code",
   "execution_count": 36,
   "metadata": {},
   "outputs": [],
   "source": [
    "def sum_1(x: int):\n",
    "    out = (rotr(6, x) ^ rotr(11, x) ^ rotr(25, x))\n",
    "    return out"
   ]
  },
  {
   "cell_type": "code",
   "execution_count": 37,
   "metadata": {},
   "outputs": [],
   "source": [
    "def sum_0(x: int):\n",
    "    out = (rotr(2, x) ^ rotr(13, x) ^ rotr(22, x))\n",
    "    return out"
   ]
  },
  {
   "cell_type": "code",
   "execution_count": 38,
   "metadata": {},
   "outputs": [],
   "source": [
    "def rotr(n: int, x: int):\n",
    "    w = 8 * 4\n",
    "    out = ((x >> n) | (x << w - n))\n",
    "    return out"
   ]
  },
  {
   "cell_type": "code",
   "execution_count": 39,
   "metadata": {},
   "outputs": [],
   "source": [
    "def shr(n: int, x: int):\n",
    "    out = x >> n\n",
    "    return out"
   ]
  },
  {
   "cell_type": "code",
   "execution_count": 40,
   "metadata": {},
   "outputs": [],
   "source": [
    "def ch(x: int, y: int, z: int):\n",
    "    out = (x & y) ^ (~x & z)\n",
    "    return out"
   ]
  },
  {
   "cell_type": "code",
   "execution_count": 41,
   "metadata": {},
   "outputs": [],
   "source": [
    "def maj(x: int, y: int, z: int):\n",
    "    out = (x & y) ^ (x & z) ^ (y & z)\n",
    "    return out"
   ]
  },
  {
   "cell_type": "code",
   "execution_count": 42,
   "metadata": {},
   "outputs": [
    {
     "name": "stdout",
     "output_type": "stream",
     "text": [
      "padding was successful\n"
     ]
    }
   ],
   "source": [
    "# padding\n",
    "\n",
    "# converting to binary\n",
    "binary = bytearray(input_string, 'ascii')\n",
    "l = len(binary) * 8\n",
    "binary.append(0x80)\n",
    "\n",
    "while (len(binary)*8 + 64)%512 != 0:\n",
    "    binary.append(0x00)\n",
    "\n",
    "binary += l.to_bytes(8, byteorder='big')\n",
    "    \n",
    "if (len(binary)*8) % 512 == 0:\n",
    "    print(\"padding was successful\")"
   ]
  },
  {
   "cell_type": "code",
   "execution_count": 43,
   "metadata": {
    "scrolled": true
   },
   "outputs": [],
   "source": [
    "# parsing\n",
    "M = []\n",
    "\n",
    "for i in range(0,len(binary), 64):\n",
    "    M.append(binary[i:i+64])"
   ]
  },
  {
   "cell_type": "code",
   "execution_count": 44,
   "metadata": {},
   "outputs": [],
   "source": [
    "# inital hash value\n",
    "H = [0x6a09e667, 0xbb67ae85, 0x3c6ef372, 0xa54ff53a, 0x510e527f, 0x9b05688c, 0x1f83d9ab, 0x5be0cd19]"
   ]
  },
  {
   "cell_type": "code",
   "execution_count": 45,
   "metadata": {
    "scrolled": true
   },
   "outputs": [
    {
     "name": "stdout",
     "output_type": "stream",
     "text": [
      "'hash this' hashed using SHA 256 is: 19467788bc0cf11790a075ea718452cecf0e79db59d1964670475e5fe2e4a611\n"
     ]
    }
   ],
   "source": [
    "# hash computation\n",
    "for message_block in M:\n",
    "    W = []\n",
    "    for t in range(0,64):\n",
    "        if t <= 15:\n",
    "            W.append(bytes(message_block[t*4:(t*4)+4]))\n",
    "        else:\n",
    "            W.append(sigma_1(int.from_bytes(W[t-2], 'big')) + int.from_bytes(W[t-7], 'big') + \n",
    "                     sigma_0(int.from_bytes(W[t-15], 'big')) + int.from_bytes(W[t-16], 'big'))\n",
    "            W[t] = (W[t]% 2**32).to_bytes(4, 'big')\n",
    "            \n",
    "    a = H[0]\n",
    "    b = H[1]\n",
    "    c = H[2]\n",
    "    d = H[3]\n",
    "    e = H[4]\n",
    "    f = H[5]\n",
    "    g = H[6]\n",
    "    h = H[7]\n",
    "    \n",
    "    for t in range (0, 64):\n",
    "        t1 = ((h + sum_1(e) + ch(e, f, g) + K[t] + int.from_bytes(W[t], 'big')) % 2**32)\n",
    "        t2 = ((sum_0(a) + maj(a, b, c)) % 2**32)\n",
    "        h = g\n",
    "        g = f \n",
    "        f = e\n",
    "        e = ((d + t1) % 2**32)\n",
    "        d = c\n",
    "        c = b\n",
    "        b = a\n",
    "        a = ((t1 + t2) % 2**32)\n",
    "  \n",
    "    H[0] = (a + H[0]) % 2**32\n",
    "    H[1] = (b + H[1]) % 2**32\n",
    "    H[2] = (c + H[2]) % 2**32\n",
    "    H[3] = (d + H[3]) % 2**32\n",
    "    H[4] = (e + H[4]) % 2**32\n",
    "    H[5] = (f + H[5]) % 2**32\n",
    "    H[6] = (g + H[6]) % 2**32\n",
    "    H[7] = (h + H[7]) % 2**32\n",
    "    \n",
    "    #for i in range(0, len(H)):\n",
    "    #    H[i] = H[i] % 2**32\n",
    "\n",
    "result = ((H[0]).to_bytes(4, 'big') + (H[1]).to_bytes(4, 'big') +\n",
    "            (H[2]).to_bytes(4, 'big') + (H[3]).to_bytes(4, 'big') +\n",
    "            (H[4]).to_bytes(4, 'big') + (H[5]).to_bytes(4, 'big') +\n",
    "            (H[6]).to_bytes(4, 'big') + (H[7]).to_bytes(4, 'big')).hex()\n",
    "\n",
    "print(\"'\" + input_string + \"'\" + ' hashed using SHA 256 is: ' + result)"
   ]
  }
 ],
 "metadata": {
  "kernelspec": {
   "display_name": "Python 3",
   "language": "python",
   "name": "python3"
  },
  "language_info": {
   "codemirror_mode": {
    "name": "ipython",
    "version": 3
   },
   "file_extension": ".py",
   "mimetype": "text/x-python",
   "name": "python",
   "nbconvert_exporter": "python",
   "pygments_lexer": "ipython3",
   "version": "3.8.3"
  }
 },
 "nbformat": 4,
 "nbformat_minor": 4
}
