{
 "cells": [
  {
   "cell_type": "code",
   "execution_count": 76,
   "metadata": {},
   "outputs": [],
   "source": [
    "import numpy as np\n",
    "import matplotlib.pyplot as plt\n",
    "import timeit"
   ]
  },
  {
   "cell_type": "code",
   "execution_count": 77,
   "metadata": {},
   "outputs": [
    {
     "name": "stdout",
     "output_type": "stream",
     "text": [
      "[[28. 25. 25. 25. 26.]\n",
      " [28. 22. 23. 24. 26.]\n",
      " [28. 19. 20. 21. 26.]\n",
      " [28. 16. 17. 18. 26.]\n",
      " [28. 13. 14. 15. 26.]\n",
      " [28. 10. 11. 12. 26.]\n",
      " [28.  7.  8.  9. 26.]\n",
      " [28.  4.  5.  6. 26.]\n",
      " [28.  1.  2.  3. 26.]\n",
      " [28. 27. 27. 27. 27.]]\n"
     ]
    }
   ],
   "source": [
    "start = timeit.default_timer()\n",
    "\n",
    "# temp = [north, east, south, west]\n",
    "temp = [40, 40, 0, 0]\n",
    "\n",
    "x_mesh = 10\n",
    "y_mesh = 5\n",
    "mesh_elems = (x_mesh-2) * (y_mesh-2)\n",
    "\n",
    "# defining the plate\n",
    "plate = np.zeros((x_mesh, y_mesh))\n",
    "plate[0,:] = mesh_elems + 1\n",
    "plate[:,-1] = mesh_elems + 2\n",
    "plate[-1,:] = mesh_elems + 3\n",
    "plate[:,0] = mesh_elems + 4\n",
    "\n",
    "node_num = 1\n",
    "for i in range(x_mesh-2, 0, -1):\n",
    "    for j in range(1, y_mesh-1):\n",
    "        plate[i,j] = node_num\n",
    "        node_num += 1\n",
    "\n",
    "print(plate)"
   ]
  },
  {
   "cell_type": "code",
   "execution_count": 78,
   "metadata": {},
   "outputs": [
    {
     "name": "stdout",
     "output_type": "stream",
     "text": [
      "[[-4.  1.  0.  1.  0.  0.  0.  0.  0.  0.  0.  0.  0.  0.  0.  0.  0.  0.\n",
      "   0.  0.  0.  0.  0.  0.  0.  0.  1.  1.]\n",
      " [ 1. -4.  1.  0.  1.  0.  0.  0.  0.  0.  0.  0.  0.  0.  0.  0.  0.  0.\n",
      "   0.  0.  0.  0.  0.  0.  0.  0.  1.  0.]\n",
      " [ 0.  1. -4.  0.  0.  1.  0.  0.  0.  0.  0.  0.  0.  0.  0.  0.  0.  0.\n",
      "   0.  0.  0.  0.  0.  0.  0.  1.  1.  0.]\n",
      " [ 1.  0.  0. -4.  1.  0.  1.  0.  0.  0.  0.  0.  0.  0.  0.  0.  0.  0.\n",
      "   0.  0.  0.  0.  0.  0.  0.  0.  0.  1.]\n",
      " [ 0.  1.  0.  1. -4.  1.  0.  1.  0.  0.  0.  0.  0.  0.  0.  0.  0.  0.\n",
      "   0.  0.  0.  0.  0.  0.  0.  0.  0.  0.]\n",
      " [ 0.  0.  1.  0.  1. -4.  0.  0.  1.  0.  0.  0.  0.  0.  0.  0.  0.  0.\n",
      "   0.  0.  0.  0.  0.  0.  0.  1.  0.  0.]\n",
      " [ 0.  0.  0.  1.  0.  0. -4.  1.  0.  1.  0.  0.  0.  0.  0.  0.  0.  0.\n",
      "   0.  0.  0.  0.  0.  0.  0.  0.  0.  1.]\n",
      " [ 0.  0.  0.  0.  1.  0.  1. -4.  1.  0.  1.  0.  0.  0.  0.  0.  0.  0.\n",
      "   0.  0.  0.  0.  0.  0.  0.  0.  0.  0.]\n",
      " [ 0.  0.  0.  0.  0.  1.  0.  1. -4.  0.  0.  1.  0.  0.  0.  0.  0.  0.\n",
      "   0.  0.  0.  0.  0.  0.  0.  1.  0.  0.]\n",
      " [ 0.  0.  0.  0.  0.  0.  1.  0.  0. -4.  1.  0.  1.  0.  0.  0.  0.  0.\n",
      "   0.  0.  0.  0.  0.  0.  0.  0.  0.  1.]\n",
      " [ 0.  0.  0.  0.  0.  0.  0.  1.  0.  1. -4.  1.  0.  1.  0.  0.  0.  0.\n",
      "   0.  0.  0.  0.  0.  0.  0.  0.  0.  0.]\n",
      " [ 0.  0.  0.  0.  0.  0.  0.  0.  1.  0.  1. -4.  0.  0.  1.  0.  0.  0.\n",
      "   0.  0.  0.  0.  0.  0.  0.  1.  0.  0.]\n",
      " [ 0.  0.  0.  0.  0.  0.  0.  0.  0.  1.  0.  0. -4.  1.  0.  1.  0.  0.\n",
      "   0.  0.  0.  0.  0.  0.  0.  0.  0.  1.]\n",
      " [ 0.  0.  0.  0.  0.  0.  0.  0.  0.  0.  1.  0.  1. -4.  1.  0.  1.  0.\n",
      "   0.  0.  0.  0.  0.  0.  0.  0.  0.  0.]\n",
      " [ 0.  0.  0.  0.  0.  0.  0.  0.  0.  0.  0.  1.  0.  1. -4.  0.  0.  1.\n",
      "   0.  0.  0.  0.  0.  0.  0.  1.  0.  0.]\n",
      " [ 0.  0.  0.  0.  0.  0.  0.  0.  0.  0.  0.  0.  1.  0.  0. -4.  1.  0.\n",
      "   1.  0.  0.  0.  0.  0.  0.  0.  0.  1.]\n",
      " [ 0.  0.  0.  0.  0.  0.  0.  0.  0.  0.  0.  0.  0.  1.  0.  1. -4.  1.\n",
      "   0.  1.  0.  0.  0.  0.  0.  0.  0.  0.]\n",
      " [ 0.  0.  0.  0.  0.  0.  0.  0.  0.  0.  0.  0.  0.  0.  1.  0.  1. -4.\n",
      "   0.  0.  1.  0.  0.  0.  0.  1.  0.  0.]\n",
      " [ 0.  0.  0.  0.  0.  0.  0.  0.  0.  0.  0.  0.  0.  0.  0.  1.  0.  0.\n",
      "  -4.  1.  0.  1.  0.  0.  0.  0.  0.  1.]\n",
      " [ 0.  0.  0.  0.  0.  0.  0.  0.  0.  0.  0.  0.  0.  0.  0.  0.  1.  0.\n",
      "   1. -4.  1.  0.  1.  0.  0.  0.  0.  0.]\n",
      " [ 0.  0.  0.  0.  0.  0.  0.  0.  0.  0.  0.  0.  0.  0.  0.  0.  0.  1.\n",
      "   0.  1. -4.  0.  0.  1.  0.  1.  0.  0.]\n",
      " [ 0.  0.  0.  0.  0.  0.  0.  0.  0.  0.  0.  0.  0.  0.  0.  0.  0.  0.\n",
      "   1.  0.  0. -4.  1.  0.  1.  0.  0.  1.]\n",
      " [ 0.  0.  0.  0.  0.  0.  0.  0.  0.  0.  0.  0.  0.  0.  0.  0.  0.  0.\n",
      "   0.  1.  0.  1. -4.  1.  1.  0.  0.  0.]\n",
      " [ 0.  0.  0.  0.  0.  0.  0.  0.  0.  0.  0.  0.  0.  0.  0.  0.  0.  0.\n",
      "   0.  0.  1.  0.  1. -4.  1.  1.  0.  0.]]\n"
     ]
    }
   ],
   "source": [
    "A_lg = np.zeros((mesh_elems, mesh_elems+4))\n",
    "\n",
    "# Define A_lg as A with b's properties built in\n",
    "for i in range(0,x_mesh):\n",
    "    for j in range(0,y_mesh):\n",
    "        if plate[i,j] <= mesh_elems:\n",
    "            # current\n",
    "            A_lg[int(plate[i,j]-1), int(plate[i,j]-1)] = -4\n",
    "            # bottom\n",
    "            A_lg[int(plate[i,j]-1), int(plate[i+1,j]-1)] = 1\n",
    "            # top\n",
    "            A_lg[int(plate[i,j]-1), int(plate[i-1,j]-1)] = 1\n",
    "            # right\n",
    "            A_lg[int(plate[i,j]-1), int(plate[i,j+1]-1)] = 1\n",
    "            # left\n",
    "            A_lg[int(plate[i,j]-1), int(plate[i,j-1]-1)] = 1\n",
    "            \n",
    "print(A_lg)"
   ]
  },
  {
   "cell_type": "code",
   "execution_count": 79,
   "metadata": {},
   "outputs": [
    {
     "name": "stdout",
     "output_type": "stream",
     "text": [
      "[[  0.]\n",
      " [  0.]\n",
      " [-40.]\n",
      " [  0.]\n",
      " [  0.]\n",
      " [-40.]\n",
      " [  0.]\n",
      " [  0.]\n",
      " [-40.]\n",
      " [  0.]\n",
      " [  0.]\n",
      " [-40.]\n",
      " [  0.]\n",
      " [  0.]\n",
      " [-40.]\n",
      " [  0.]\n",
      " [  0.]\n",
      " [-40.]\n",
      " [  0.]\n",
      " [  0.]\n",
      " [-40.]\n",
      " [-40.]\n",
      " [-40.]\n",
      " [-80.]]\n"
     ]
    }
   ],
   "source": [
    "# Split up A_lg\n",
    "b_matrix = A_lg[:, -4:]\n",
    "A = A_lg[:, :mesh_elems]\n",
    "\n",
    "# define b from b_matrix\n",
    "b = np.zeros((mesh_elems, 1))\n",
    "for i in range(0, mesh_elems):\n",
    "    for j in range(0, 4):\n",
    "        if b_matrix[i,j]==1:\n",
    "            b[i] -= temp[j]\n",
    "print(b)"
   ]
  },
  {
   "cell_type": "code",
   "execution_count": 80,
   "metadata": {},
   "outputs": [
    {
     "name": "stdout",
     "output_type": "stream",
     "text": [
      "[[ 4.07098536  9.41156159 18.71150824]\n",
      " [ 6.87237985 14.86375277 25.43447136]\n",
      " [ 8.55478128 17.73659828 28.16262441]\n",
      " [ 9.61014698 19.36523466 29.47942802]\n",
      " [10.52057198 20.63476534 30.38985302]\n",
      " [11.83737559 22.26340172 31.44521872]\n",
      " [14.56552864 25.13624723 33.12762015]\n",
      " [21.28849176 30.58843841 35.92901464]]\n"
     ]
    }
   ],
   "source": [
    "# calculate temp distribution and reshape\n",
    "x = np.linalg.solve(A, b)\n",
    "T = np.reshape(x, (x_mesh-2, y_mesh-2))\n",
    "print(T)"
   ]
  },
  {
   "cell_type": "code",
   "execution_count": 81,
   "metadata": {},
   "outputs": [
    {
     "name": "stdout",
     "output_type": "stream",
     "text": [
      "Time:  0.07013287500001297\n"
     ]
    },
    {
     "data": {
      "image/png": "[encoded data removed]",
      "text/plain": [
       "<Figure size 321.994x160.997 with 1 Axes>"
      ]
     },
     "metadata": {
      "needs_background": "light"
     },
     "output_type": "display_data"
    }
   ],
   "source": [
    "# plot\n",
    "x_dim = (x_mesh/((x_mesh**2 + y_mesh**2)**(1/2)))*5\n",
    "y_dim = (y_mesh/((x_mesh**2 + y_mesh**2)**(1/2)))*5\n",
    "\n",
    "cmap = plt.cm.get_cmap(\"seismic\")\n",
    "plt.figure(figsize=(x_dim, y_dim))\n",
    "plt.contourf(T, cmap=cmap)\n",
    "plt.show\n",
    "\n",
    "stop = timeit.default_timer()\n",
    "print('Time: ', stop - start)"
   ]
  }
 ],
 "metadata": {
  "kernelspec": {
   "display_name": "general",
   "language": "python",
   "name": "general"
  },
  "language_info": {
   "codemirror_mode": {
    "name": "ipython",
    "version": 3
   },
   "file_extension": ".py",
   "mimetype": "text/x-python",
   "name": "python",
   "nbconvert_exporter": "python",
   "pygments_lexer": "ipython3",
   "version": "3.9.2"
  }
 },
 "nbformat": 4,
 "nbformat_minor": 4
}
